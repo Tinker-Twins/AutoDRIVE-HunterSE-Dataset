{
 "cells": [
  {
   "cell_type": "code",
   "execution_count": 1,
   "id": "ce8bfd2a",
   "metadata": {},
   "outputs": [],
   "source": [
    "import pandas as pd\n",
    "import os"
   ]
  },
  {
   "cell_type": "code",
   "execution_count": 2,
   "id": "9c7fd1cc",
   "metadata": {},
   "outputs": [
    {
     "name": "stdout",
     "output_type": "stream",
     "text": [
      "Processing file: c:\\Users\\tsamak\\Workspace\\AutoDRIVE-Hunter-SE-Dataset\\steering_10_hz\\throttle_0_1\\run_01\\V1 Log.csv\n",
      "File processed successfully.\n",
      "Processing file: c:\\Users\\tsamak\\Workspace\\AutoDRIVE-Hunter-SE-Dataset\\steering_10_hz\\throttle_0_1\\run_02\\V1 Log.csv\n",
      "File processed successfully.\n",
      "Processing file: c:\\Users\\tsamak\\Workspace\\AutoDRIVE-Hunter-SE-Dataset\\steering_10_hz\\throttle_0_1\\run_03\\V1 Log.csv\n",
      "File processed successfully.\n",
      "Processing file: c:\\Users\\tsamak\\Workspace\\AutoDRIVE-Hunter-SE-Dataset\\steering_10_hz\\throttle_0_1\\run_04\\V1 Log.csv\n",
      "File processed successfully.\n",
      "Processing file: c:\\Users\\tsamak\\Workspace\\AutoDRIVE-Hunter-SE-Dataset\\steering_10_hz\\throttle_0_1\\run_05\\V1 Log.csv\n",
      "File processed successfully.\n",
      "Processing file: c:\\Users\\tsamak\\Workspace\\AutoDRIVE-Hunter-SE-Dataset\\steering_10_hz\\throttle_0_2\\run_01\\V1 Log.csv\n",
      "File processed successfully.\n",
      "Processing file: c:\\Users\\tsamak\\Workspace\\AutoDRIVE-Hunter-SE-Dataset\\steering_10_hz\\throttle_0_2\\run_02\\V1 Log.csv\n",
      "File processed successfully.\n",
      "Processing file: c:\\Users\\tsamak\\Workspace\\AutoDRIVE-Hunter-SE-Dataset\\steering_10_hz\\throttle_0_2\\run_03\\V1 Log.csv\n",
      "File processed successfully.\n",
      "Processing file: c:\\Users\\tsamak\\Workspace\\AutoDRIVE-Hunter-SE-Dataset\\steering_10_hz\\throttle_0_2\\run_04\\V1 Log.csv\n",
      "File processed successfully.\n",
      "Processing file: c:\\Users\\tsamak\\Workspace\\AutoDRIVE-Hunter-SE-Dataset\\steering_10_hz\\throttle_0_2\\run_05\\V1 Log.csv\n",
      "File processed successfully.\n",
      "Processing file: c:\\Users\\tsamak\\Workspace\\AutoDRIVE-Hunter-SE-Dataset\\steering_10_hz\\throttle_0_3\\run_01\\V1 Log.csv\n",
      "File processed successfully.\n",
      "Processing file: c:\\Users\\tsamak\\Workspace\\AutoDRIVE-Hunter-SE-Dataset\\steering_10_hz\\throttle_0_3\\run_02\\V1 Log.csv\n",
      "File processed successfully.\n",
      "Processing file: c:\\Users\\tsamak\\Workspace\\AutoDRIVE-Hunter-SE-Dataset\\steering_10_hz\\throttle_0_3\\run_03\\V1 Log.csv\n",
      "File processed successfully.\n",
      "Processing file: c:\\Users\\tsamak\\Workspace\\AutoDRIVE-Hunter-SE-Dataset\\steering_10_hz\\throttle_0_3\\run_04\\V1 Log.csv\n",
      "File processed successfully.\n",
      "Processing file: c:\\Users\\tsamak\\Workspace\\AutoDRIVE-Hunter-SE-Dataset\\steering_10_hz\\throttle_0_3\\run_05\\V1 Log.csv\n",
      "File processed successfully.\n",
      "Processing file: c:\\Users\\tsamak\\Workspace\\AutoDRIVE-Hunter-SE-Dataset\\steering_10_hz\\throttle_0_4\\run_01\\V1 Log.csv\n",
      "File processed successfully.\n",
      "Processing file: c:\\Users\\tsamak\\Workspace\\AutoDRIVE-Hunter-SE-Dataset\\steering_10_hz\\throttle_0_4\\run_02\\V1 Log.csv\n",
      "File processed successfully.\n",
      "Processing file: c:\\Users\\tsamak\\Workspace\\AutoDRIVE-Hunter-SE-Dataset\\steering_10_hz\\throttle_0_4\\run_03\\V1 Log.csv\n",
      "File processed successfully.\n",
      "Processing file: c:\\Users\\tsamak\\Workspace\\AutoDRIVE-Hunter-SE-Dataset\\steering_10_hz\\throttle_0_4\\run_04\\V1 Log.csv\n",
      "File processed successfully.\n",
      "Processing file: c:\\Users\\tsamak\\Workspace\\AutoDRIVE-Hunter-SE-Dataset\\steering_10_hz\\throttle_0_4\\run_05\\V1 Log.csv\n",
      "File processed successfully.\n",
      "Processing file: c:\\Users\\tsamak\\Workspace\\AutoDRIVE-Hunter-SE-Dataset\\steering_10_hz\\throttle_0_5\\run_01\\V1 Log.csv\n",
      "File processed successfully.\n",
      "Processing file: c:\\Users\\tsamak\\Workspace\\AutoDRIVE-Hunter-SE-Dataset\\steering_10_hz\\throttle_0_5\\run_02\\V1 Log.csv\n",
      "File processed successfully.\n",
      "Processing file: c:\\Users\\tsamak\\Workspace\\AutoDRIVE-Hunter-SE-Dataset\\steering_10_hz\\throttle_0_5\\run_03\\V1 Log.csv\n",
      "File processed successfully.\n",
      "Processing file: c:\\Users\\tsamak\\Workspace\\AutoDRIVE-Hunter-SE-Dataset\\steering_10_hz\\throttle_0_5\\run_04\\V1 Log.csv\n",
      "File processed successfully.\n",
      "Processing file: c:\\Users\\tsamak\\Workspace\\AutoDRIVE-Hunter-SE-Dataset\\steering_10_hz\\throttle_0_5\\run_05\\V1 Log.csv\n",
      "File processed successfully.\n"
     ]
    }
   ],
   "source": [
    "def remove_last_three_columns(csv_file):\n",
    "    # Read the CSV file\n",
    "    df = pd.read_csv(csv_file)\n",
    "    \n",
    "    # Remove the last three columns\n",
    "    df = df.iloc[:, :-3]\n",
    "    \n",
    "    # Save the modified data back to the same CSV file, replacing the existing one\n",
    "    df.to_csv(csv_file, index=False)\n",
    "\n",
    "def process_csv_files_in_directory(directory):\n",
    "    # Loop through all files and directories in the given directory\n",
    "    for root, dirs, files in os.walk(directory):\n",
    "        for file_name in files:\n",
    "            if file_name.endswith(\".csv\"):\n",
    "                file_path = os.path.join(root, file_name)\n",
    "                print(\"Processing file:\", file_path)\n",
    "                remove_last_three_columns(file_path)\n",
    "                print(\"File processed successfully.\")\n",
    "\n",
    "# Replace 'parent_directory_path' with the path to the parent directory containing your CSV files\n",
    "parent_directory_path = os.getcwd()\n",
    "\n",
    "# Call the function to process all CSV files in the parent directory and its subdirectories\n",
    "process_csv_files_in_directory(parent_directory_path)"
   ]
  }
 ],
 "metadata": {
  "kernelspec": {
   "display_name": "Python 3 (ipykernel)",
   "language": "python",
   "name": "python3"
  },
  "language_info": {
   "codemirror_mode": {
    "name": "ipython",
    "version": 3
   },
   "file_extension": ".py",
   "mimetype": "text/x-python",
   "name": "python",
   "nbconvert_exporter": "python",
   "pygments_lexer": "ipython3",
   "version": "3.8.18"
  }
 },
 "nbformat": 4,
 "nbformat_minor": 5
}
