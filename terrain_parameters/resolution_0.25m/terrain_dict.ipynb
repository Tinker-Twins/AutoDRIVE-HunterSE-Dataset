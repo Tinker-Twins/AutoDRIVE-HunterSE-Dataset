{
 "cells": [
  {
   "cell_type": "code",
   "execution_count": 1,
   "id": "ce8bfd2a",
   "metadata": {},
   "outputs": [],
   "source": [
    "import scipy.io\n",
    "import pickle"
   ]
  },
  {
   "cell_type": "code",
   "execution_count": 2,
   "id": "9c7fd1cc",
   "metadata": {},
   "outputs": [
    {
     "name": "stdout",
     "output_type": "stream",
     "text": [
      "26896\n",
      "(0.0, 0.0): (0.0, 0.0)\n",
      "(0.25, 0.0): (0.0, 0.0)\n",
      "(0.5, 0.0): (0.0, 0.0)\n",
      "(0.75, 0.0): (0.0, 0.0)\n",
      "(1.0, 0.0): (0.0, 0.0)\n"
     ]
    }
   ],
   "source": [
    "# Load .mat files\n",
    "X = scipy.io.loadmat('X.mat')['X']\n",
    "Y = scipy.io.loadmat('Y.mat')['Y']\n",
    "gx = scipy.io.loadmat('gx.mat')['gx']\n",
    "gy = scipy.io.loadmat('gy.mat')['gy']\n",
    "\n",
    "# Initialize the dictionary\n",
    "terrain_dict = {}\n",
    "\n",
    "# Populate the dictionary\n",
    "for i in range(X.shape[0]):\n",
    "    for j in range(X.shape[1]):\n",
    "        terrain_dict[(X[i, j], Y[i, j])] = (gx[i, j], gy[i, j])\n",
    "\n",
    "# Print the dictionary size (sanity check)\n",
    "print(len(terrain_dict))\n",
    "\n",
    "# Print the dictionary (sanity check)\n",
    "for key, value in list(terrain_dict.items())[:5]:\n",
    "    print(f\"{key}: {value}\")\n",
    "\n",
    "# Save the dictionary to a file\n",
    "with open('terrain_dict.pkl', 'wb') as f:\n",
    "    pickle.dump(terrain_dict, f)"
   ]
  },
  {
   "cell_type": "code",
   "execution_count": 3,
   "id": "b4cab930",
   "metadata": {},
   "outputs": [
    {
     "name": "stdout",
     "output_type": "stream",
     "text": [
      "26896\n",
      "(0.0, 0.0): (0.0, 0.0)\n",
      "(0.25, 0.0): (0.0, 0.0)\n",
      "(0.5, 0.0): (0.0, 0.0)\n",
      "(0.75, 0.0): (0.0, 0.0)\n",
      "(1.0, 0.0): (0.0, 0.0)\n"
     ]
    }
   ],
   "source": [
    "# Load the dictionary from the file\n",
    "with open('terrain_dict.pkl', 'rb') as f:\n",
    "    loaded_terrain_dict = pickle.load(f)\n",
    "\n",
    "# Print the dictionary size (sanity check)\n",
    "print(len(loaded_terrain_dict))\n",
    "\n",
    "# Print the dictionary (sanity check)\n",
    "for key, value in list(loaded_terrain_dict.items())[:5]:\n",
    "    print(f\"{key}: {value}\")"
   ]
  }
 ],
 "metadata": {
  "kernelspec": {
   "display_name": "Python 3 (ipykernel)",
   "language": "python",
   "name": "python3"
  },
  "language_info": {
   "codemirror_mode": {
    "name": "ipython",
    "version": 3
   },
   "file_extension": ".py",
   "mimetype": "text/x-python",
   "name": "python",
   "nbconvert_exporter": "python",
   "pygments_lexer": "ipython3",
   "version": "3.11.5"
  }
 },
 "nbformat": 4,
 "nbformat_minor": 5
}
